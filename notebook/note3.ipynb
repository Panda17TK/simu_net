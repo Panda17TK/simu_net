{
 "cells": [
  {
   "cell_type": "code",
   "execution_count": 1,
   "metadata": {},
   "outputs": [],
   "source": [
    "import numpy as np\n",
    "\n",
    "def discrete_fourier_transform(sequence):\n",
    "    \"\"\"\n",
    "    Perform Discrete Fourier Transform on a given sequence.\n",
    "    \n",
    "    Args:\n",
    "    sequence (list of int/float): The input sequence for DFT.\n",
    "\n",
    "    Returns:\n",
    "    list: The DFT coefficients.\n",
    "    \"\"\"\n",
    "    N = len(sequence)\n",
    "    sequence = np.array(sequence)\n",
    "    n = np.arange(N)\n",
    "    k = n.reshape((N, 1))\n",
    "    M = np.cos(-2j * np.pi * k * n / N)\n",
    "    return np.dot(M, sequence)\n",
    "\n",
    "# Test the function with the provided sequence\n",
    "sequence = [-2, 1, 0, -1, 0, 1]\n",
    "dft_result = discrete_fourier_transform(sequence)"
   ]
  },
  {
   "cell_type": "code",
   "execution_count": 2,
   "metadata": {},
   "outputs": [
    {
     "data": {
      "text/plain": [
       "array([-1.00000000e+00+0.00000000e+00j, -6.66133815e-16+5.55111512e-16j,\n",
       "       -4.00000000e+00-1.11022302e-15j, -3.00000000e+00-2.14375088e-15j,\n",
       "       -4.00000000e+00-2.22044605e-15j,  1.22124533e-15+3.99680289e-15j])"
      ]
     },
     "execution_count": 2,
     "metadata": {},
     "output_type": "execute_result"
    }
   ],
   "source": [
    "dft_result"
   ]
  },
  {
   "cell_type": "code",
   "execution_count": 3,
   "metadata": {},
   "outputs": [
    {
     "data": {
      "text/plain": [
       "array([-1.00000000e+00, -6.66133815e-16, -4.00000000e+00, -3.00000000e+00,\n",
       "       -4.00000000e+00,  1.22124533e-15])"
      ]
     },
     "execution_count": 3,
     "metadata": {},
     "output_type": "execute_result"
    }
   ],
   "source": [
    "dft_real_approx = np.real_if_close(dft_result, tol=1000)\n",
    "dft_real_approx"
   ]
  },
  {
   "cell_type": "code",
   "execution_count": 6,
   "metadata": {},
   "outputs": [],
   "source": [
    "import numpy as np\n",
    "\n",
    "def discrete_fourier_transform_trig(sequence):\n",
    "    \"\"\"\n",
    "    Perform Discrete Fourier Transform using trigonometric expressions.\n",
    "\n",
    "    Args:\n",
    "    sequence (list of int/float): The input sequence for DFT.\n",
    "\n",
    "    Returns:\n",
    "    list: The DFT coefficients.\n",
    "    \"\"\"\n",
    "    N = len(sequence)\n",
    "    sequence = np.array(sequence)\n",
    "    n = np.arange(N)\n",
    "    k = n.reshape((N, 1))\n",
    "    # Using trigonometric expressions for the DFT matrix\n",
    "    M = np.cos(-2 * np.pi * k * n / N)\n",
    "    return np.dot(M, sequence)\n",
    "\n",
    "# Test the function with the provided sequence\n",
    "sequence = [-2, 1, 0, -1, 0, 1]\n",
    "dft_result_trig = discrete_fourier_transform_trig(sequence)"
   ]
  },
  {
   "cell_type": "code",
   "execution_count": 7,
   "metadata": {},
   "outputs": [
    {
     "data": {
      "text/plain": [
       "array([-1.00000000e+00,  0.00000000e+00, -4.00000000e+00, -3.00000000e+00,\n",
       "       -4.00000000e+00, -1.16573418e-15])"
      ]
     },
     "execution_count": 7,
     "metadata": {},
     "output_type": "execute_result"
    }
   ],
   "source": [
    "dft_result_trig"
   ]
  },
  {
   "cell_type": "code",
   "execution_count": null,
   "metadata": {},
   "outputs": [],
   "source": []
  }
 ],
 "metadata": {
  "kernelspec": {
   "display_name": "lec_dl",
   "language": "python",
   "name": "python3"
  },
  "language_info": {
   "codemirror_mode": {
    "name": "ipython",
    "version": 3
   },
   "file_extension": ".py",
   "mimetype": "text/x-python",
   "name": "python",
   "nbconvert_exporter": "python",
   "pygments_lexer": "ipython3",
   "version": "3.7.12"
  }
 },
 "nbformat": 4,
 "nbformat_minor": 2
}
